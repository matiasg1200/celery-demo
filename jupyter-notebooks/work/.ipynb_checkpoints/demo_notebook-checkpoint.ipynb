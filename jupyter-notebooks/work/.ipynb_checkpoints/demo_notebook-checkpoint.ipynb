{
 "cells": [
  {
   "cell_type": "markdown",
   "id": "13528bf5-c58b-483a-91dc-9f16517165f5",
   "metadata": {},
   "source": [
    "# Welcome to Jupyter Notebooks demo!"
   ]
  },
  {
   "cell_type": "markdown",
   "id": "8c26f0a6-43ce-4054-bc17-fa52d0a3197e",
   "metadata": {},
   "source": [
    "### Among other things, jupyter notebooks will help you to run your Pyhton code as you go so its great for quick tests"
   ]
  },
  {
   "cell_type": "markdown",
   "id": "ceb7dd93-e9fc-46ee-872c-2e93572d1ca2",
   "metadata": {},
   "source": [
    "### For example, you can run quick mathematical operations: "
   ]
  },
  {
   "cell_type": "code",
   "execution_count": 2,
   "id": "d1d5eaf9-79da-4454-babb-55a7d4bc99ea",
   "metadata": {},
   "outputs": [
    {
     "data": {
      "text/plain": [
       "11"
      ]
     },
     "execution_count": 2,
     "metadata": {},
     "output_type": "execute_result"
    }
   ],
   "source": [
    "3 + 3 + 5"
   ]
  },
  {
   "cell_type": "markdown",
   "id": "b726927e-c536-4edc-b278-a9c8ba737ea0",
   "metadata": {},
   "source": [
    "### Print something on screen: "
   ]
  },
  {
   "cell_type": "code",
   "execution_count": 4,
   "id": "068223ed-afbe-4b57-a5ed-5899c09caee4",
   "metadata": {},
   "outputs": [
    {
     "name": "stdout",
     "output_type": "stream",
     "text": [
      "Hello, from a Jupyter notebook\n"
     ]
    }
   ],
   "source": [
    "print (\"Hello, from a Jupyter notebook\")"
   ]
  },
  {
   "cell_type": "markdown",
   "id": "59cbb168-af56-446f-868b-f0891b668619",
   "metadata": {},
   "source": [
    "### But you can also write more complex code, declaraing variables, using loops, conditionals, etc : "
   ]
  },
  {
   "cell_type": "code",
   "execution_count": 10,
   "id": "29a435ca-bfe3-450c-b471-cc3c099ca7e9",
   "metadata": {},
   "outputs": [],
   "source": [
    "greeting = \"Hello, from a Jupyter notebook\""
   ]
  },
  {
   "cell_type": "code",
   "execution_count": 11,
   "id": "8b7d864c-619e-4cbe-ae6a-8903d46bccb5",
   "metadata": {},
   "outputs": [],
   "source": [
    "def count_words_in_greeting (some_greeting):\n",
    "    number_of_words = len(some_greeting.split())\n",
    "    return number_of_words"
   ]
  },
  {
   "cell_type": "code",
   "execution_count": 12,
   "id": "4aff0beb-c758-4a89-8038-5950787dabab",
   "metadata": {},
   "outputs": [],
   "source": [
    "result = count_words_in_greeting (greeting)"
   ]
  },
  {
   "cell_type": "code",
   "execution_count": 14,
   "id": "c422da0c-757d-47cb-816e-caead907cf14",
   "metadata": {},
   "outputs": [
    {
     "name": "stdout",
     "output_type": "stream",
     "text": [
      "number of words in greeting is: 5\n"
     ]
    }
   ],
   "source": [
    "print (\"number of words in greeting is: \" + str(result))"
   ]
  }
 ],
 "metadata": {
  "kernelspec": {
   "display_name": "Python 3 (ipykernel)",
   "language": "python",
   "name": "python3"
  },
  "language_info": {
   "codemirror_mode": {
    "name": "ipython",
    "version": 3
   },
   "file_extension": ".py",
   "mimetype": "text/x-python",
   "name": "python",
   "nbconvert_exporter": "python",
   "pygments_lexer": "ipython3",
   "version": "3.11.9"
  }
 },
 "nbformat": 4,
 "nbformat_minor": 5
}
